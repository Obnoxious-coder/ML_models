{
 "cells": [
  {
   "cell_type": "code",
   "execution_count": null,
   "metadata": {},
   "outputs": [],
   "source": [
    "# In linear Reg we try to fit the best fitting line to the set of data points \n",
    "\n",
    "# (xi,yi) represent the ith point on the region\n",
    "\n",
    "# For this case we will consider the most basic fit with only one parameter\n",
    "# i.e. y=wx+c\n",
    "\n",
    "# Cost Function(J)=1/N*(Summation((yi-(wxi+c))^2))\n",
    "\n",
    "\n",
    "#derivative is found with respect to w and with respect to b\n",
    "\n",
    "#dJ/dw=1/N*(summation(2*xi*(yi-(wxi+c))))\n",
    "\n",
    "#dJ/db=1/N*(summation(2*(yi-(wxi+c))))\n",
    "\n",
    "#here we are using the gradient decend method to find the minimum point \n",
    "#alternatively we can use normal method to minimize the same which is given as\n",
    "#  w=(X.T * X)^(-1)*X.T*y\n",
    "#gradient decend is preferred over normal method when we are dealing with large datasets(n>10000) as complexity of calculating the transpose for matrix become very large"
   ]
  },
  {
   "cell_type": "code",
   "execution_count": 1,
   "metadata": {},
   "outputs": [],
   "source": [
    "#importing libraries \n",
    "import numpy as np\n",
    "from sklearn.model_selection import train_test_split\n",
    "from sklearn import datasets\n",
    "import matplotlib.pyplot as plt"
   ]
  },
  {
   "cell_type": "code",
   "execution_count": 2,
   "metadata": {},
   "outputs": [],
   "source": [
    "#creating a dataset to fit a linear reg model \n",
    "X,y=datasets.make_regression(n_samples=100,n_features=1,noise=20,random_state=4)\n",
    "#splitting the data into training data and test data\n",
    "X_train,X_test,y_train,y_test=train_test_split(X,y,test_size=0.2,random_state=1234)\n"
   ]
  },
  {
   "cell_type": "code",
   "execution_count": 3,
   "metadata": {},
   "outputs": [
    {
     "data": {
      "image/png": "[encoded data removed]",
      "text/plain": [
       "<Figure size 576x432 with 1 Axes>"
      ]
     },
     "metadata": {
      "needs_background": "light"
     },
     "output_type": "display_data"
    }
   ],
   "source": [
    "#visaulizing the data\n",
    "fig=plt.figure(figsize=(8,6))\n",
    "plt.scatter(X_train,y_train,color=\"b\",marker='o',s=30)\n",
    "plt.scatter(X_test,y_test,color=\"g\",marker='o',s=30)\n",
    "plt.show()"
   ]
  },
  {
   "cell_type": "code",
   "execution_count": 20,
   "metadata": {},
   "outputs": [],
   "source": [
    "\"\"\"class LinearReg:\n",
    "    \n",
    "    \n",
    "    \n",
    "    def __init__(self,lr=0.01,n_iters=1000):\n",
    "        self.lr=lr;\n",
    "        self.n_iters=n_iters\n",
    "        self.weights=None\n",
    "        self.bias=None\n",
    "        \n",
    "        \n",
    "    def fit(self,X,y):\n",
    "        n_samples=X.shape\n",
    "        n_features=X.shape\n",
    "        self.weights=np.zeros(n_features)\n",
    "        self.bias=0\n",
    "        X = np.squeeze(np.asarray(X))\n",
    "        self.weights = np.squeeze(np.asarray(self.weights))\n",
    "        for _ in range(self.n_iters):\n",
    "            y_pred=np.dot(X,self.weights)+self.bias\n",
    "        #finding dJ/dw\n",
    "            dw=(2/n_samples)*np.dot(X.T,(y_pred-y))\n",
    "            db=(2/n_samples)*np.sum((y_pred-y))\n",
    "            \n",
    "            self.weights-=self.lr*dw\n",
    "            self.bias-=self.lr*db\n",
    "            \n",
    "            \n",
    "    \n",
    "    def predict(self,X,y):\n",
    "        y_pred=np.dot(X,self.weights)+bias\n",
    "        fig=plt.figure(figsize=(8,6))\n",
    "        plt.scatter(X,y,color=\"b\",marker='o',s=30)\n",
    "        plt.plot(X,y_pred,color=\"r\")\n",
    "        plt.show()\n",
    "        \n",
    " \"\"\"\n",
    "#following the basic structure in ml models ,defining the fit and predict methods\n",
    "class LinearRegression:\n",
    "\n",
    "    def __init__(self, lr=0.001, n_iters=1000):\n",
    "        self.lr = lr\n",
    "        self.n_iters = n_iters\n",
    "        self.weights = None\n",
    "        self.bias = None\n",
    "\n",
    "    def fit(self, X, y):\n",
    "        n_samples, n_features = X.shape\n",
    "\n",
    "        # init parameters\n",
    "        self.weights = np.zeros(n_features)\n",
    "        self.bias = 0\n",
    "\n",
    "        # gradient descent\n",
    "        for _ in range(self.n_iters):\n",
    "            y_predicted = np.dot(X, self.weights) + self.bias\n",
    "            # compute gradients\n",
    "            dw = (1 / n_samples) * np.dot(X.T, (y_predicted - y))\n",
    "            db = (1 / n_samples) * np.sum(y_predicted - y)\n",
    "\n",
    "            # update parameters\n",
    "            self.weights -= self.lr * dw\n",
    "            self.bias -= self.lr * db\n",
    " \n",
    "\n",
    "    def predict(self, X,y):\n",
    "        y_pred=np.dot(X,self.weights)+self.bias\n",
    "        fig=plt.figure(figsize=(8,6))\n",
    "        plt.scatter(X,y,color=\"b\",marker='o',s=30)\n",
    "        plt.plot(X,y_pred,color=\"r\")\n",
    "        plt.show()"
   ]
  },
  {
   "cell_type": "code",
   "execution_count": 21,
   "metadata": {},
   "outputs": [],
   "source": [
    "#creating class object\n",
    "regressor=LinearRegression(lr=0.01,n_iters=1000)"
   ]
  },
  {
   "cell_type": "code",
   "execution_count": 22,
   "metadata": {},
   "outputs": [],
   "source": [
    "#calling the fit method\n",
    "regressor.fit(X_train,y_train)"
   ]
  },
  {
   "cell_type": "code",
   "execution_count": 23,
   "metadata": {},
   "outputs": [
    {
     "data": {
      "image/png": "[encoded data removed]",
      "text/plain": [
       "<Figure size 576x432 with 1 Axes>"
      ]
     },
     "metadata": {
      "needs_background": "light"
     },
     "output_type": "display_data"
    }
   ],
   "source": [
    "#predict method\n",
    "regressor.predict(X_test,y_test)"
   ]
  },
  {
   "cell_type": "code",
   "execution_count": null,
   "metadata": {},
   "outputs": [],
   "source": []
  }
 ],
 "metadata": {
  "kernelspec": {
   "display_name": "Python 3",
   "language": "python",
   "name": "python3"
  },
  "language_info": {
   "codemirror_mode": {
    "name": "ipython",
    "version": 3
   },
   "file_extension": ".py",
   "mimetype": "text/x-python",
   "name": "python",
   "nbconvert_exporter": "python",
   "pygments_lexer": "ipython3",
   "version": "3.8.1"
  }
 },
 "nbformat": 4,
 "nbformat_minor": 4
}
